{
 "cells": [
  {
   "cell_type": "markdown",
   "metadata": {},
   "source": [
    "## Identifying Outliers"
   ]
  },
  {
   "cell_type": "code",
   "execution_count": 1,
   "metadata": {},
   "outputs": [
    {
     "name": "stdout",
     "output_type": "stream",
     "text": [
      "   Customer ID        Purchase Date Product Category  Product Price  Quantity  \\\n",
      "0        46251  2020-09-08 09:38:32      Electronics             12         3   \n",
      "1        46251  2022-03-05 12:56:35             Home            468         4   \n",
      "2        46251  2022-05-23 18:18:01             Home            288         2   \n",
      "3        46251  2020-11-12 13:13:29         Clothing            196         1   \n",
      "4        13593  2020-11-27 17:55:11             Home            449         1   \n",
      "\n",
      "   Total Purchase Amount Payment Method  Customer Age  Returns  \\\n",
      "0                    740    Credit Card            37      0.0   \n",
      "1                   2739         PayPal            37      0.0   \n",
      "2                   3196         PayPal            37      0.0   \n",
      "3                   3509         PayPal            37      0.0   \n",
      "4                   3452    Credit Card            49      0.0   \n",
      "\n",
      "         Customer Name  Age  Gender  Churn  \n",
      "0  Christine Hernandez   37    Male      0  \n",
      "1  Christine Hernandez   37    Male      0  \n",
      "2  Christine Hernandez   37    Male      0  \n",
      "3  Christine Hernandez   37    Male      0  \n",
      "4          James Grant   49  Female      1  \n",
      "\n",
      " Empty DataFrame\n",
      "Columns: [Total Purchase Amount, Z_score]\n",
      "Index: []\n"
     ]
    }
   ],
   "source": [
    "import numpy as np\n",
    "import pandas as pd \n",
    "\n",
    "data = pd.read_csv('ecommerce_customer_data_custom_ratios.csv')\n",
    "\n",
    "print(data.head())\n",
    "# Convert to DataFrame\n",
    "df = pd.DataFrame(data, columns=['Total Purchase Amount'])\n",
    "\n",
    "# Calculate Z-scores\n",
    "mean = np.mean(df['Total Purchase Amount'])\n",
    "std_dev = np.std(df['Total Purchase Amount'])\n",
    "df['Z_score'] = (df['Total Purchase Amount'] - mean) / std_dev\n",
    "\n",
    "# Identify outliers\n",
    "threshold = 3\n",
    "outliers = df[df['Z_score'].abs() > threshold]\n",
    "print(\"\\n\",outliers)"
   ]
  },
  {
   "cell_type": "code",
   "execution_count": 2,
   "metadata": {},
   "outputs": [
    {
     "data": {
      "text/html": [
       "<div>\n",
       "<style scoped>\n",
       "    .dataframe tbody tr th:only-of-type {\n",
       "        vertical-align: middle;\n",
       "    }\n",
       "\n",
       "    .dataframe tbody tr th {\n",
       "        vertical-align: top;\n",
       "    }\n",
       "\n",
       "    .dataframe thead th {\n",
       "        text-align: right;\n",
       "    }\n",
       "</style>\n",
       "<table border=\"1\" class=\"dataframe\">\n",
       "  <thead>\n",
       "    <tr style=\"text-align: right;\">\n",
       "      <th></th>\n",
       "      <th>Customer ID</th>\n",
       "      <th>Purchase Date</th>\n",
       "      <th>Product Category</th>\n",
       "      <th>Product Price</th>\n",
       "      <th>Quantity</th>\n",
       "      <th>Total Purchase Amount</th>\n",
       "      <th>Payment Method</th>\n",
       "      <th>Customer Age</th>\n",
       "      <th>Returns</th>\n",
       "      <th>Customer Name</th>\n",
       "      <th>Age</th>\n",
       "      <th>Gender</th>\n",
       "      <th>Churn</th>\n",
       "    </tr>\n",
       "  </thead>\n",
       "  <tbody>\n",
       "    <tr>\n",
       "      <th>0</th>\n",
       "      <td>46251</td>\n",
       "      <td>2020-09-08 09:38:32</td>\n",
       "      <td>Electronics</td>\n",
       "      <td>12</td>\n",
       "      <td>3</td>\n",
       "      <td>740</td>\n",
       "      <td>Credit Card</td>\n",
       "      <td>37</td>\n",
       "      <td>0.0</td>\n",
       "      <td>Christine Hernandez</td>\n",
       "      <td>37</td>\n",
       "      <td>Male</td>\n",
       "      <td>0</td>\n",
       "    </tr>\n",
       "    <tr>\n",
       "      <th>1</th>\n",
       "      <td>46251</td>\n",
       "      <td>2022-03-05 12:56:35</td>\n",
       "      <td>Home</td>\n",
       "      <td>468</td>\n",
       "      <td>4</td>\n",
       "      <td>2739</td>\n",
       "      <td>PayPal</td>\n",
       "      <td>37</td>\n",
       "      <td>0.0</td>\n",
       "      <td>Christine Hernandez</td>\n",
       "      <td>37</td>\n",
       "      <td>Male</td>\n",
       "      <td>0</td>\n",
       "    </tr>\n",
       "    <tr>\n",
       "      <th>2</th>\n",
       "      <td>46251</td>\n",
       "      <td>2022-05-23 18:18:01</td>\n",
       "      <td>Home</td>\n",
       "      <td>288</td>\n",
       "      <td>2</td>\n",
       "      <td>3196</td>\n",
       "      <td>PayPal</td>\n",
       "      <td>37</td>\n",
       "      <td>0.0</td>\n",
       "      <td>Christine Hernandez</td>\n",
       "      <td>37</td>\n",
       "      <td>Male</td>\n",
       "      <td>0</td>\n",
       "    </tr>\n",
       "    <tr>\n",
       "      <th>3</th>\n",
       "      <td>46251</td>\n",
       "      <td>2020-11-12 13:13:29</td>\n",
       "      <td>Clothing</td>\n",
       "      <td>196</td>\n",
       "      <td>1</td>\n",
       "      <td>3509</td>\n",
       "      <td>PayPal</td>\n",
       "      <td>37</td>\n",
       "      <td>0.0</td>\n",
       "      <td>Christine Hernandez</td>\n",
       "      <td>37</td>\n",
       "      <td>Male</td>\n",
       "      <td>0</td>\n",
       "    </tr>\n",
       "    <tr>\n",
       "      <th>4</th>\n",
       "      <td>13593</td>\n",
       "      <td>2020-11-27 17:55:11</td>\n",
       "      <td>Home</td>\n",
       "      <td>449</td>\n",
       "      <td>1</td>\n",
       "      <td>3452</td>\n",
       "      <td>Credit Card</td>\n",
       "      <td>49</td>\n",
       "      <td>0.0</td>\n",
       "      <td>James Grant</td>\n",
       "      <td>49</td>\n",
       "      <td>Female</td>\n",
       "      <td>1</td>\n",
       "    </tr>\n",
       "  </tbody>\n",
       "</table>\n",
       "</div>"
      ],
      "text/plain": [
       "   Customer ID        Purchase Date Product Category  Product Price  Quantity  \\\n",
       "0        46251  2020-09-08 09:38:32      Electronics             12         3   \n",
       "1        46251  2022-03-05 12:56:35             Home            468         4   \n",
       "2        46251  2022-05-23 18:18:01             Home            288         2   \n",
       "3        46251  2020-11-12 13:13:29         Clothing            196         1   \n",
       "4        13593  2020-11-27 17:55:11             Home            449         1   \n",
       "\n",
       "   Total Purchase Amount Payment Method  Customer Age  Returns  \\\n",
       "0                    740    Credit Card            37      0.0   \n",
       "1                   2739         PayPal            37      0.0   \n",
       "2                   3196         PayPal            37      0.0   \n",
       "3                   3509         PayPal            37      0.0   \n",
       "4                   3452    Credit Card            49      0.0   \n",
       "\n",
       "         Customer Name  Age  Gender  Churn  \n",
       "0  Christine Hernandez   37    Male      0  \n",
       "1  Christine Hernandez   37    Male      0  \n",
       "2  Christine Hernandez   37    Male      0  \n",
       "3  Christine Hernandez   37    Male      0  \n",
       "4          James Grant   49  Female      1  "
      ]
     },
     "execution_count": 2,
     "metadata": {},
     "output_type": "execute_result"
    }
   ],
   "source": [
    "data.head()"
   ]
  },
  {
   "cell_type": "code",
   "execution_count": 4,
   "metadata": {},
   "outputs": [
    {
     "data": {
      "image/png": "[encoded data removed]",
      "text/plain": [
       "<Figure size 640x480 with 1 Axes>"
      ]
     },
     "metadata": {},
     "output_type": "display_data"
    }
   ],
   "source": [
    "import matplotlib.pyplot as plt\n",
    "\n",
    "data.boxplot(column=['Total Purchase Amount'])\n",
    "plt.show()\n"
   ]
  },
  {
   "cell_type": "markdown",
   "metadata": {},
   "source": []
  }
 ],
 "metadata": {
  "kernelspec": {
   "display_name": "base",
   "language": "python",
   "name": "python3"
  },
  "language_info": {
   "codemirror_mode": {
    "name": "ipython",
    "version": 3
   },
   "file_extension": ".py",
   "mimetype": "text/x-python",
   "name": "python",
   "nbconvert_exporter": "python",
   "pygments_lexer": "ipython3",
   "version": "3.12.3"
  }
 },
 "nbformat": 4,
 "nbformat_minor": 2
}
